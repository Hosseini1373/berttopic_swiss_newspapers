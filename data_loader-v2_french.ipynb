{
 "cells": [
  {
   "cell_type": "code",
   "execution_count": 1,
   "id": "d1c1cced-58a4-4b55-b695-961a1fbb39c4",
   "metadata": {
    "tags": []
   },
   "outputs": [],
   "source": [
    "# import ray\n",
    "# runtime_env = {\"working_dir\": \"/home/bdp23/work/ahmad/german_analysis_after_tfidf\", \"pip\": [\"numpy\"]}\n",
    "\n",
    "# # Let's start Ray\n",
    "# if ray.is_initialized():\n",
    "#     ray.shutdown()\n",
    "# ray.init(\"ray://localhost:10001\", runtime_env = runtime_env)"
   ]
  },
  {
   "cell_type": "code",
   "execution_count": 2,
   "id": "586fd07f-900d-4cc8-b687-955a89aa3a49",
   "metadata": {
    "tags": []
   },
   "outputs": [],
   "source": [
    "# cluster_resources = ray.cluster_resources()\n",
    "# print(\"Cluster resources:\", cluster_resources)"
   ]
  },
  {
   "cell_type": "code",
   "execution_count": 3,
   "id": "b74c920c-bffd-4099-98b4-f81c5a8941de",
   "metadata": {
    "tags": []
   },
   "outputs": [],
   "source": [
    "# node_info = ray.nodes()\n",
    "# print(\"Node info:\")\n",
    "# for node in node_info:\n",
    "#     print(\"Node ID:\", node[\"NodeID\"])\n",
    "#     print(\"Node IP:\", node[\"NodeManagerAddress\"])\n",
    "#     print(\"Node resources:\", node[\"Resources\"])\n",
    "#     print(\"--------\")\n"
   ]
  },
  {
   "cell_type": "code",
   "execution_count": null,
   "id": "9338ae41-0d5f-4f37-89e2-16c8c8d1278b",
   "metadata": {
    "tags": []
   },
   "outputs": [],
   "source": []
  },
  {
   "cell_type": "code",
   "execution_count": 4,
   "id": "c5a13d67-c21d-4a57-b9b3-294a5aa2aadb",
   "metadata": {
    "tags": []
   },
   "outputs": [],
   "source": [
    "# %pip install conllu\n",
    "# %pip install https://huggingface.co/spacy/de_core_news_md/resolve/main/de_core_news_md-any-py3-none-any.whl\n",
    "# %pip install https://huggingface.co/spacy/fr_core_news_md/resolve/main/fr_core_news_md-any-py3-none-any.whl\n",
    "# %pip install wheel\n",
    "# %pip install bertopic\n",
    "# %pip install nltk\n",
    "# %pip install scikit-learn\n",
    "# %pip install sentence-transformers\n",
    "# %pip install cudf-cu11 cuml-cu11 --extra-index-url=https://pypi.nvidia.com"
   ]
  },
  {
   "cell_type": "code",
   "execution_count": 1,
   "id": "c06e6885-0c54-4632-acd7-ce80aea4a116",
   "metadata": {
    "tags": []
   },
   "outputs": [],
   "source": [
    "# !pip install spacy"
   ]
  },
  {
   "cell_type": "code",
   "execution_count": 1,
   "id": "ef49f7c3-c54a-4b6a-94b7-03691a6ae68f",
   "metadata": {
    "tags": []
   },
   "outputs": [],
   "source": [
    "import spacy\n",
    "import os\n",
    "import json\n",
    "import pandas as pd\n",
    "import pickle5 as pickle"
   ]
  },
  {
   "cell_type": "code",
   "execution_count": 8,
   "id": "8b28f482-c8ee-47ff-894d-9329df13d323",
   "metadata": {
    "tags": []
   },
   "outputs": [],
   "source": [
    "# def read_conllu(file):\n",
    "#     \"\"\"\n",
    "#     open txt file in CoNLL-U format, and parse it with conllu package\n",
    "#     Input: Text-file in CoNLL-U format (.txt)\n",
    "#     Output: TokenList\n",
    "#     \"\"\"\n",
    "#     with open(file, encoding = 'utf-8') as f:\n",
    "#         txt = f.read() \n",
    "#     parsed_data = parse(txt)\n",
    "#     return parsed_data"
   ]
  },
  {
   "cell_type": "code",
   "execution_count": 9,
   "id": "e727bc26-9a13-45bd-b9ca-cf3264398c0d",
   "metadata": {
    "tags": []
   },
   "outputs": [],
   "source": [
    "# def create_article(token_list):\n",
    "#     \"\"\"\n",
    "#     creates list of tokens for one article, uses list compreshension to get words\n",
    "#     Input: TokenList\n",
    "#     Output: list\n",
    "#     \"\"\"\n",
    "#     article = []\n",
    "#     for sentence in token_list:\n",
    "#         tokens = [token['form'] for token in sentence]\n",
    "#         article.extend(tokens)\n",
    "#     return article"
   ]
  },
  {
   "cell_type": "code",
   "execution_count": 10,
   "id": "c924de54-d938-4dde-870e-4fb606bdaa0e",
   "metadata": {
    "tags": []
   },
   "outputs": [],
   "source": [
    "# def stringify(list):\n",
    "#     # This function joins all tokens in a list to a string\n",
    "#     return \" \".join(list)"
   ]
  },
  {
   "cell_type": "code",
   "execution_count": 11,
   "id": "8a8a8035-b85e-4c09-b7d1-69810f5ae6f3",
   "metadata": {
    "tags": []
   },
   "outputs": [],
   "source": [
    "# def filepaths_newspaper(directory):\n",
    "#     \"\"\"\n",
    "#     Helper function to get filepaths for data loading, depends on original file structure:\n",
    "#     --> Newspaper / year / subdir / articles.txt\n",
    "#     Input: path to directory, i.e. path until newspaper short name\n",
    "#     Output: dictionary with paths, packaged by year\n",
    "#     \"\"\"\n",
    "#     paths = {}\n",
    "#     years = os.listdir(directory)\n",
    "#     for year in years:\n",
    "#         sub_directories = os.listdir(os.path.join(directory, year))\n",
    "#         paths[year] = []\n",
    "        \n",
    "#         for subdir in sub_directories:\n",
    "#             files = [os.path.join(directory, year, subdir, file) for file in os.listdir(os.path.join(directory, year, subdir)) if file.endswith(\".txt\")]\n",
    "#             paths[year].extend(files)\n",
    "            \n",
    "#     return paths"
   ]
  },
  {
   "cell_type": "code",
   "execution_count": 12,
   "id": "e840cd95-3257-4f0b-9ba6-60cc6f756e94",
   "metadata": {
    "tags": []
   },
   "outputs": [],
   "source": [
    "# def read_files(paths):\n",
    "#     \"\"\"\n",
    "#     Function that reads and processes the articles for one specific newspaper\n",
    "#     If files are corrupted and yield a ParsingError, the filepath is saved in the errors list\n",
    "#     Input: dictionary with paths to all files, divided by year (keys)\n",
    "#     Output: dictionary packaged by years, containing 2-d array with lists of tokens (one list per article), error list\n",
    "#     \"\"\"\n",
    "#     corpus = {}\n",
    "#     errors = []\n",
    "#     print('\\n ---  start loading ---')\n",
    "    \n",
    "#     for year in paths.keys():\n",
    "#         corpus[year] = []\n",
    "        \n",
    "#         for file in paths[year]:\n",
    "#             try:\n",
    "#                 data = read_conllu(file)\n",
    "#                 article = create_article(data)\n",
    "#                 corpus[year].append(article)\n",
    "                \n",
    "#             except:\n",
    "#                 print('error in: ', file)\n",
    "#                 erros.append(file)\n",
    "                \n",
    "#         print(year, ' processed')\n",
    "    \n",
    "#     print('---  completed loading ---')\n",
    "    \n",
    "#     return corpus, errors"
   ]
  },
  {
   "cell_type": "code",
   "execution_count": 13,
   "id": "b68fedd1-f099-457f-9084-62a8058f5341",
   "metadata": {
    "tags": []
   },
   "outputs": [],
   "source": [
    "# def save_corpus(corpus_newspaper, filename):\n",
    "#     \"\"\"\n",
    "#     This function saves a newspaper corpus to a json file\n",
    "#     Input: dictionary like corpus, filename: name.json\n",
    "#     Output: json file\n",
    "#     \"\"\"\n",
    "#     with open(filename, \"w\") as outfile:\n",
    "#         json.dump(corpus_newspaper, outfile)\n",
    "        \n",
    "#     print('--- completed saving: ', filename, '---')"
   ]
  },
  {
   "cell_type": "code",
   "execution_count": 14,
   "id": "fa7013d7-1173-4619-82ef-6364e8ee8d40",
   "metadata": {
    "tags": []
   },
   "outputs": [],
   "source": [
    "# def read_json_corpus(path):\n",
    "#     \"\"\"\n",
    "#     This function reads a newspaper corpus from json file\n",
    "#     Input: path to json file\n",
    "#     Output: dictionary\n",
    "#     \"\"\"\n",
    "#     with open(path, \"r\") as json_file:\n",
    "#         data = json.load(json_file)\n",
    "        \n",
    "#     return data"
   ]
  },
  {
   "cell_type": "code",
   "execution_count": 15,
   "id": "58836861-b2da-432b-8f94-19150684f832",
   "metadata": {
    "tags": []
   },
   "outputs": [],
   "source": [
    "# def create_dataframe(data_dict, newspaper):\n",
    "#     \"\"\"\n",
    "#     This function creates a pandas df out of a dictionary like corpus produced by read_files()\n",
    "#     Input: dict like, json or python dict\n",
    "#     Output: Pandas df\n",
    "#     \"\"\"\n",
    "#     # Extract keys (years) and values (2-dimensional lists) from the dictionary\n",
    "#     years = []\n",
    "#     texts = []\n",
    "#     for year, values in data_dict.items():\n",
    "#         for value in values:\n",
    "#             years.append(year)\n",
    "#             texts.append(value)\n",
    "    \n",
    "#     # Create a dataframe using pandas\n",
    "#     df = pd.DataFrame({'text': texts, 'year': years, 'newspaper': newspaper})\n",
    "    \n",
    "#     return df"
   ]
  },
  {
   "cell_type": "code",
   "execution_count": 2,
   "id": "6fce8d2e-0c4f-4b76-a0e1-493b0bc3d37a",
   "metadata": {
    "tags": []
   },
   "outputs": [],
   "source": [
    "german_newspapers=['NZZ',  'BZ', 'BU', 'BAZ', 'TA']"
   ]
  },
  {
   "cell_type": "code",
   "execution_count": 3,
   "id": "12de37b8-da3c-45c6-955e-7a89187cf275",
   "metadata": {
    "tags": []
   },
   "outputs": [],
   "source": [
    "french_newspapers=['TLM', 'TDG','HEU','TPS']"
   ]
  },
  {
   "cell_type": "code",
   "execution_count": 4,
   "id": "a2a6772e-22d2-48f5-91ec-44ba6f147edc",
   "metadata": {
    "tags": []
   },
   "outputs": [],
   "source": [
    "# dfs = []\n",
    "# for media in german_newspapers:\n",
    "#     data = read_json_corpus(f'{media}.json')\n",
    "#     df = create_dataframe(data, media)\n",
    "#     del data\n",
    "#     dfs.append(df)\n",
    "# # create full dataframe with german newspapers\n",
    "# df_full_german = pd.concat(dfs, axis = 0)\n",
    "# df_full_german.head(10)"
   ]
  },
  {
   "cell_type": "code",
   "execution_count": 5,
   "id": "d02a8272-6640-4723-8489-37f6ffba4057",
   "metadata": {
    "tags": []
   },
   "outputs": [],
   "source": [
    "# dfs = []\n",
    "# for media in french_newspapers:\n",
    "#     data = read_json_corpus(f'{media}.json')\n",
    "#     df = create_dataframe(data, media)\n",
    "#     del data\n",
    "#     dfs.append(df)\n",
    "# # create full dataframe with french newspapers\n",
    "# df_full_french = pd.concat(dfs, axis = 0)\n",
    "# df_full_french.head(10)"
   ]
  },
  {
   "cell_type": "code",
   "execution_count": 6,
   "id": "6da22f47-8825-44d9-b079-f3aea56a8fa0",
   "metadata": {
    "tags": []
   },
   "outputs": [],
   "source": [
    "#The undersampled DATA: 5(german newspapers)* 200(articles) * 25 (years not including 1996, 1997 )"
   ]
  },
  {
   "cell_type": "code",
   "execution_count": 4,
   "id": "80eb0ee4-2b9a-4795-a4ea-2afb917b9531",
   "metadata": {
    "tags": []
   },
   "outputs": [
    {
     "name": "stdout",
     "output_type": "stream",
     "text": [
      "                                                 text  year newspaper\n",
      "3   cherix président de renaissance suisse europe ...  1998       HEU\n",
      "8   dbm  drake beam morin  se présente comme le le...  1998       HEU\n",
      "11  pieds et poings liés  les betteraviers de la b...  1998       HEU\n",
      "17  le premier ministre israélien benjamin netanya...  1998       HEU\n",
      "22  ce ne sont pas les rebondissements qui manquen...  1998       HEU\n",
      "29  le credit suisse ne semble plus guère redouter...  1998       HEU\n",
      "30  la faillite de la société ifosa à blonay a été...  1998       HEU\n",
      "32  avec l ouverture de les marchés publics cestàd...  1998       HEU\n",
      "40  les partis bourgeois représentés à le conseil ...  1998       HEU\n",
      "47  alors que le bâtiment de la marine américaine ...  1998       HEU\n"
     ]
    }
   ],
   "source": [
    "# # Load the CSV file into a DataFrame\n",
    "# undersampled_data = pd.read_csv('undersampled_data_german.csv')\n",
    "\n",
    "\n",
    "# Load undersampled data from the pickled object\n",
    "with open('df_bank_french_tfidf.pkl', 'rb') as f:\n",
    "    undersampled_data = pickle.load(f)\n",
    "\n",
    "# Now you can work with the loaded DataFrame\n",
    "# For example, you can print the first few rows:\n",
    "print(undersampled_data.head(10))"
   ]
  },
  {
   "cell_type": "code",
   "execution_count": 5,
   "id": "b984c777-5d41-4f29-85c8-a8344eddf8b0",
   "metadata": {
    "tags": []
   },
   "outputs": [
    {
     "data": {
      "text/plain": [
       "29130"
      ]
     },
     "execution_count": 5,
     "metadata": {},
     "output_type": "execute_result"
    }
   ],
   "source": [
    "len(undersampled_data)"
   ]
  },
  {
   "cell_type": "code",
   "execution_count": 6,
   "id": "d26d3373-fb90-4bc5-ae68-7a8f6afbd654",
   "metadata": {
    "tags": []
   },
   "outputs": [
    {
     "data": {
      "text/plain": [
       "text          après plusieurs mois d hésitation  la réserve...\n",
       "year                                                      2016\n",
       "newspaper                                                  TDG\n",
       "Name: 60968, dtype: object"
      ]
     },
     "execution_count": 6,
     "metadata": {},
     "output_type": "execute_result"
    }
   ],
   "source": [
    "undersampled_data.iloc[10000]"
   ]
  },
  {
   "cell_type": "code",
   "execution_count": 7,
   "id": "c42a77f2-57f6-4027-8b5b-3dc147f59aea",
   "metadata": {
    "tags": []
   },
   "outputs": [],
   "source": [
    "# nlp = spacy.load(\"de_core_news_md\")\n",
    "# nlp = spacy.load(\"fr_core_news_md\")"
   ]
  },
  {
   "cell_type": "code",
   "execution_count": 13,
   "id": "f45f1445-290c-4fb7-9703-a0861b57b5b2",
   "metadata": {
    "tags": []
   },
   "outputs": [],
   "source": [
    "# %pip install gensim"
   ]
  },
  {
   "cell_type": "code",
   "execution_count": 8,
   "id": "ca593299-222d-4089-ab5e-2ff0a05837b5",
   "metadata": {
    "tags": []
   },
   "outputs": [],
   "source": [
    "import nltk\n",
    "import numpy as np\n",
    "#import gensim\n",
    "#from gensim.utils import simple_preprocess\n",
    "from nltk.corpus import stopwords\n",
    "# Download the stopwords from nltk\n",
    "#nltk.download('stopwords')"
   ]
  },
  {
   "cell_type": "code",
   "execution_count": 9,
   "id": "130ee03e-4898-48f1-8088-6bb5096551a1",
   "metadata": {},
   "outputs": [
    {
     "name": "stderr",
     "output_type": "stream",
     "text": [
      "/Users/ahmadstudy/opt/anaconda3/envs/nlp_4/lib/python3.7/site-packages/spacy/language.py:1899: UserWarning: [W123] Argument disable with value ['tagger', 'parser', 'ner'] is used instead of ['senter'] as specified in the config. Be aware that this might affect other components in your pipeline.\n",
      "  config_value=config[\"nlp\"][key],\n"
     ]
    }
   ],
   "source": [
    "from nltk.corpus import stopwords\n",
    "import spacy\n",
    "\n",
    "# Load the spaCy models for German\n",
    "nlp_german = spacy.load('de_core_news_md', disable=['tagger', 'parser', 'ner'])\n",
    "nlp_french = spacy.load('fr_core_news_md')\n",
    "\n",
    "# Get the stopwords for German, French, and English\n",
    "stop_words_german = set(stopwords.words('german'))\n",
    "stop_words_french = set(stopwords.words('french'))\n",
    "stop_words_english = set(stopwords.words('english'))"
   ]
  },
  {
   "cell_type": "code",
   "execution_count": 11,
   "id": "4684c739-df5a-4bf3-a565-b173b1d31400",
   "metadata": {},
   "outputs": [],
   "source": [
    "# Function to perform the pre-processing steps on the entire dataset\n",
    "\n",
    "# Function to preprocess a single document\n",
    "def preprocess_single_doc(doc):\n",
    "    return ' '.join([token.text.lower() for token in doc if token.text.lower() not in stop_words_french and len(token.text) > 3])\n",
    "\n",
    "\n"
   ]
  },
  {
   "cell_type": "code",
   "execution_count": 23,
   "id": "a22e62dd-b79b-42fa-9e0d-b0c2037ce7ed",
   "metadata": {},
   "outputs": [],
   "source": [
    "# print(preprocess_single_doc(\"Der Himmel war von dichten Wolken bedeckt, während der Wind sanft durch die Bäume strich. Einige Vögel zwitscherten fröhlich im Hintergrund. Die Blumen blühten in leuchtenden Farben und versprühten ihren betörenden Duft. In der Ferne konnte man das Rauschen eines Flusses hören. Die Natur war in voller Pracht. Es war ein idyllischer Tag, perfekt zum Entspannen und die Schönheit der Umgebung zu genießen.\"))"
   ]
  },
  {
   "cell_type": "code",
   "execution_count": 12,
   "id": "1f11ad5a-e02c-46c1-8272-e4925395164f",
   "metadata": {},
   "outputs": [
    {
     "name": "stdout",
     "output_type": "stream",
     "text": [
      "01000200030004000500060007000800090001000011000120001300014000150001600017000180001900020000210002200023000240002500026000270002800029000"
     ]
    }
   ],
   "source": [
    "# Preprocess all the texts using SpaCy's pipe function for faster batch processing\n",
    "chunk_size = 1000  # adjust as necessary\n",
    "processed_docs_german = []\n",
    "for i in range(0, len(undersampled_data['text']), chunk_size):\n",
    "    print(i,end='')\n",
    "    chunk = undersampled_data['text'][i:i+chunk_size]\n",
    "    processed_chunk= list(nlp_french.pipe(chunk, batch_size=25))\n",
    "    processed_docs_german.extend(processed_chunk)"
   ]
  },
  {
   "cell_type": "code",
   "execution_count": 13,
   "id": "e67b85e0",
   "metadata": {},
   "outputs": [
    {
     "data": {
      "text/plain": [
       "'cherix président renaissance suisse europe euro certes laborieux compromis présidence banque centrale européenne marqué cette naissance fait monnaie unique devient réalité revenir enjeux événement bien plutôt interroger manière dont suisse perçu penser saluée cette étape marque clairement volonté abandonner économie seuls jeux places financières nationales surtout pays regrette souvent déficit politique construction européenne aucuns tirer parallèle unification monnaies helvétiques 1848 plus incisif autres rappeler propos grands experts financiers dont certains affirmaient récemment encore euro verrait jour tous paru logique pays fait compromis onzième commandement accueille relative compréhension négociations difficiles accompagnant fait politique majeur rien tout cela deux côtés sarine majorité médias choisi critiquer manière dont histoire faite plutôt souligner portance histoire ellemême apres marchandages marchandages indignes comportement marchands tapis crédit euro entamé quelquesuns titres donnaient parfois illusion toute opération sang larmes quant articles fustigeaient souvent longuement manque panache clarté union européenne alignant longs couplets moralisateurs insuffisances criantes voisins dire suisse aime porter europe regard exigence garde soigneusement appliquer propres fonctionnements vrai helvètes pris habitude masquer immobilisme condamnant doctement dynamisme autres sous cette regrettable attitude cache névrose plus subtile égard mêmes journaux révélateurs effet jour également rendu compte proposition conseiller fédéral congrès fribourg dernier affirma plus moins prêt engager armée frontières lutter contre immigration clandestine voilà idée dont énormité inadéquation maladresse jour aiguiser stylos voilà relance ébouriffante réduit national susciter titres ravageurs contraire inverse euro affaire rapportée sans passion comme agissait mesure technique fédéral plumes sobres regards neutres ainsi suisse lorsqu parle ellemême semble persuadée situe automatiquement granit sérieux quantifiable lequel applique récit factuel tandis tout entoure place inévitablement flou approximatif nonsens lequel applique discours moral intérieur ordre réel agit accepter raconter extérieur ordre hypothétique agit juger commenter théorie approximative lisez toute histoire négociations bilatérales sous éclairage voyez comment positions helvétiques toujours présentées comme résultat mathématique données objectives alors celles permanence fruit mauvaise volonté arrogance double regard empêche suisse prendre compte données réelles monde tout confondant propres fantasmes réalité pourtant oeil neuf pays découvre pseudoréalité plus dernier frisson nostalgie alpine aussi pathétique évanescente'"
      ]
     },
     "execution_count": 13,
     "metadata": {},
     "output_type": "execute_result"
    }
   ],
   "source": [
    "preprocess_single_doc(processed_docs_german[0])"
   ]
  },
  {
   "cell_type": "code",
   "execution_count": 14,
   "id": "99303fa1-9099-491c-a08e-4f7cc75afa47",
   "metadata": {},
   "outputs": [
    {
     "name": "stdout",
     "output_type": "stream",
     "text": [
      "Processed 10000 documents\n",
      "Processed 20000 documents\n"
     ]
    }
   ],
   "source": [
    "# Map the preprocessed Docs to their respective strings\n",
    "# processed_docs_german = [preprocess_single_doc(doc) for doc in processed_docs_german]\n",
    "# Map the preprocessed Docs to their respective strings with progress tracking\n",
    "processed_docs_german_tokenized = []\n",
    "for i, doc in enumerate(processed_docs_german):\n",
    "    processed_docs_german_tokenized.append(preprocess_single_doc(doc))\n",
    "    if (i+1) % 10000 == 0:  # For every 10,000 documents processed\n",
    "        print(f\"Processed {i+1} documents\")"
   ]
  },
  {
   "cell_type": "code",
   "execution_count": 15,
   "id": "2d2a8dd0",
   "metadata": {},
   "outputs": [
    {
     "data": {
      "text/html": [
       "<div>\n",
       "<style scoped>\n",
       "    .dataframe tbody tr th:only-of-type {\n",
       "        vertical-align: middle;\n",
       "    }\n",
       "\n",
       "    .dataframe tbody tr th {\n",
       "        vertical-align: top;\n",
       "    }\n",
       "\n",
       "    .dataframe thead th {\n",
       "        text-align: right;\n",
       "    }\n",
       "</style>\n",
       "<table border=\"1\" class=\"dataframe\">\n",
       "  <thead>\n",
       "    <tr style=\"text-align: right;\">\n",
       "      <th></th>\n",
       "      <th>text</th>\n",
       "    </tr>\n",
       "  </thead>\n",
       "  <tbody>\n",
       "    <tr>\n",
       "      <th>0</th>\n",
       "      <td>cherix président renaissance suisse europe eur...</td>\n",
       "    </tr>\n",
       "    <tr>\n",
       "      <th>1</th>\n",
       "      <td>drake beam morin présente comme leader mondial...</td>\n",
       "    </tr>\n",
       "    <tr>\n",
       "      <th>2</th>\n",
       "      <td>pieds poings liés betteraviers broye fâchés fa...</td>\n",
       "    </tr>\n",
       "    <tr>\n",
       "      <th>3</th>\n",
       "      <td>premier ministre israélien benjamin netanyahou...</td>\n",
       "    </tr>\n",
       "    <tr>\n",
       "      <th>4</th>\n",
       "      <td>rebondissements manquent affaire biodépollutio...</td>\n",
       "    </tr>\n",
       "    <tr>\n",
       "      <th>5</th>\n",
       "      <td>credit suisse semble plus guère redouter insta...</td>\n",
       "    </tr>\n",
       "    <tr>\n",
       "      <th>6</th>\n",
       "      <td>faillite société ifosa blonay prononcée semain...</td>\n",
       "    </tr>\n",
       "    <tr>\n",
       "      <th>7</th>\n",
       "      <td>ouverture marchés publics cestàdire retour lib...</td>\n",
       "    </tr>\n",
       "    <tr>\n",
       "      <th>8</th>\n",
       "      <td>partis bourgeois représentés conseil fédéral c...</td>\n",
       "    </tr>\n",
       "    <tr>\n",
       "      <th>9</th>\n",
       "      <td>alors bâtiment marine américaine grapple prépa...</td>\n",
       "    </tr>\n",
       "  </tbody>\n",
       "</table>\n",
       "</div>"
      ],
      "text/plain": [
       "                                                text\n",
       "0  cherix président renaissance suisse europe eur...\n",
       "1  drake beam morin présente comme leader mondial...\n",
       "2  pieds poings liés betteraviers broye fâchés fa...\n",
       "3  premier ministre israélien benjamin netanyahou...\n",
       "4  rebondissements manquent affaire biodépollutio...\n",
       "5  credit suisse semble plus guère redouter insta...\n",
       "6  faillite société ifosa blonay prononcée semain...\n",
       "7  ouverture marchés publics cestàdire retour lib...\n",
       "8  partis bourgeois représentés conseil fédéral c...\n",
       "9  alors bâtiment marine américaine grapple prépa..."
      ]
     },
     "execution_count": 15,
     "metadata": {},
     "output_type": "execute_result"
    }
   ],
   "source": [
    "import pandas as pd\n",
    "\n",
    "# Convert the flat list to a list of lists\n",
    "processed_docs_german_tokeniz = [[item] for item in processed_docs_german_tokenized]\n",
    "\n",
    "df = pd.DataFrame(processed_docs_german_tokeniz)\n",
    "\n",
    "# Now, you can use the .head() method\n",
    "df = df.rename(columns={0: 'text'})\n",
    "df.head(10)\n"
   ]
  },
  {
   "cell_type": "code",
   "execution_count": 16,
   "id": "acdfd7ce-1750-47ae-be78-9b3977d6fd41",
   "metadata": {},
   "outputs": [
    {
     "data": {
      "text/plain": [
       "29130"
      ]
     },
     "execution_count": 16,
     "metadata": {},
     "output_type": "execute_result"
    }
   ],
   "source": [
    "len(df)"
   ]
  },
  {
   "cell_type": "code",
   "execution_count": 17,
   "id": "03f45859",
   "metadata": {},
   "outputs": [],
   "source": [
    "# Save the processed_docs_german object to a file\n",
    "with open('processed_docs_french.pkl', 'wb') as f:\n",
    "    pickle.dump(df, f)"
   ]
  },
  {
   "cell_type": "code",
   "execution_count": 29,
   "id": "eab1c002-08ed-43db-823b-3ecdf83a7b6a",
   "metadata": {
    "tags": []
   },
   "outputs": [
    {
     "data": {
      "text/plain": [
       "41110"
      ]
     },
     "execution_count": 29,
     "metadata": {},
     "output_type": "execute_result"
    }
   ],
   "source": []
  },
  {
   "cell_type": "code",
   "execution_count": 18,
   "id": "3907871f-c770-4f31-9334-072d5928bfd6",
   "metadata": {},
   "outputs": [
    {
     "ename": "ModuleNotFoundError",
     "evalue": "No module named 'cuml'",
     "output_type": "error",
     "traceback": [
      "\u001b[0;31m---------------------------------------------------------------------------\u001b[0m",
      "\u001b[0;31mModuleNotFoundError\u001b[0m                       Traceback (most recent call last)",
      "\u001b[0;32m/var/folders/40/35mdc1k90vx03ydp6rq7gxg00000gp/T/ipykernel_8489/3355224400.py\u001b[0m in \u001b[0;36m<module>\u001b[0;34m\u001b[0m\n\u001b[1;32m      1\u001b[0m \u001b[0;32mfrom\u001b[0m \u001b[0mbertopic\u001b[0m \u001b[0;32mimport\u001b[0m \u001b[0mBERTopic\u001b[0m\u001b[0;34m\u001b[0m\u001b[0;34m\u001b[0m\u001b[0m\n\u001b[0;32m----> 2\u001b[0;31m \u001b[0;32mfrom\u001b[0m \u001b[0mcuml\u001b[0m\u001b[0;34m.\u001b[0m\u001b[0mcluster\u001b[0m \u001b[0;32mimport\u001b[0m \u001b[0mHDBSCAN\u001b[0m\u001b[0;34m\u001b[0m\u001b[0;34m\u001b[0m\u001b[0m\n\u001b[0m\u001b[1;32m      3\u001b[0m \u001b[0;32mfrom\u001b[0m \u001b[0mcuml\u001b[0m\u001b[0;34m.\u001b[0m\u001b[0mmanifold\u001b[0m \u001b[0;32mimport\u001b[0m \u001b[0mUMAP\u001b[0m\u001b[0;34m\u001b[0m\u001b[0;34m\u001b[0m\u001b[0m\n\u001b[1;32m      4\u001b[0m \u001b[0;32mfrom\u001b[0m \u001b[0mnltk\u001b[0m\u001b[0;34m.\u001b[0m\u001b[0mcorpus\u001b[0m \u001b[0;32mimport\u001b[0m \u001b[0mstopwords\u001b[0m\u001b[0;34m\u001b[0m\u001b[0;34m\u001b[0m\u001b[0m\n\u001b[1;32m      5\u001b[0m \u001b[0;32mfrom\u001b[0m \u001b[0msklearn\u001b[0m\u001b[0;34m.\u001b[0m\u001b[0mfeature_extraction\u001b[0m\u001b[0;34m.\u001b[0m\u001b[0mtext\u001b[0m \u001b[0;32mimport\u001b[0m \u001b[0mCountVectorizer\u001b[0m\u001b[0;34m\u001b[0m\u001b[0;34m\u001b[0m\u001b[0m\n",
      "\u001b[0;31mModuleNotFoundError\u001b[0m: No module named 'cuml'"
     ]
    }
   ],
   "source": [
    "from bertopic import BERTopic \n",
    "import hdbscan\n",
    "from umap import UMAP\n",
    "from nltk.corpus import stopwords \n",
    "from sklearn.feature_extraction.text import CountVectorizer \n",
    "from sentence_transformers import SentenceTransformer \n",
    "\n",
    "\n",
    "modelBert = BERTopic(top_n_words=15 ) "
   ]
  },
  {
   "cell_type": "code",
   "execution_count": 31,
   "id": "88c28b84-6788-414f-bc9a-cf1731de060b",
   "metadata": {
    "tags": []
   },
   "outputs": [],
   "source": [
    "# processed_docs_german_for_bertopic=processed_docs_german"
   ]
  },
  {
   "cell_type": "code",
   "execution_count": 32,
   "id": "809c48e7-8383-4a76-b200-ca96a967eaf3",
   "metadata": {
    "tags": []
   },
   "outputs": [],
   "source": [
    "# processed_docs_german_for_bertopic = processed_docs_german_for_bertopic.reset_index(drop=True)"
   ]
  },
  {
   "cell_type": "code",
   "execution_count": 33,
   "id": "66c4eb0c-bea8-4a76-ad96-bbfb6c02574e",
   "metadata": {
    "tags": []
   },
   "outputs": [
    {
     "data": {
      "text/plain": [
       "0    er_old einkommen allg steuern reichtum einkomm...\n",
       "1    er_old korruption bank allg wirtschaftskrimina...\n",
       "2    er_old fussball fussball soccer finanzen einko...\n",
       "3    _old wirtschaftskriminalität kapitalmarkt post...\n",
       "4    er_old versicherung lebensversicherungsgewerbe...\n",
       "5    _old fernsehanstalt fernsehprogramm fussball f...\n",
       "6    er_old staatsverfassung sozialversicherung arb...\n",
       "7    er_old übersicht fussball fernsehprogramm werb...\n",
       "8    _old wirtschaftskriminalität kapitalmarkt wirt...\n",
       "9    er_old eislaufen eiskunstlauf eistanz sponsori...\n",
       "Name: text, dtype: object"
      ]
     },
     "execution_count": 33,
     "metadata": {},
     "output_type": "execute_result"
    }
   ],
   "source": [
    "# processed_docs_german_for_bertopic.head(10)"
   ]
  },
  {
   "cell_type": "code",
   "execution_count": 35,
   "id": "79c72de5-0c14-4f4f-86c4-d31d529e9a64",
   "metadata": {
    "tags": []
   },
   "outputs": [
    {
     "data": {
      "text/plain": [
       "41110"
      ]
     },
     "execution_count": 35,
     "metadata": {},
     "output_type": "execute_result"
    }
   ],
   "source": [
    "# len(processed_docs_german_for_bertopic)"
   ]
  },
  {
   "cell_type": "code",
   "execution_count": 34,
   "id": "c606ec70-1fb7-483c-9d6b-55c86e2f8eab",
   "metadata": {
    "tags": []
   },
   "outputs": [
    {
     "data": {
      "text/plain": [
       "'basler bankrat basler grosse mittwoch ständerätin anita fetz 13köpfigen bankrat basler kantonalbank bestätigt politikerin stiess wegen verwicklung spendenaffäre stiftung facile geschlossenen widerstand bürgerlichen zweiten wahlgang kantonalpräsident beat jans betonte pressekonferenz fetz niemand schaden gekommen financier dieter behring irgendwelche geschäftlichen kontakte gepflegt system weiterempfohlen teil kolportiert worden fetz opfer medienkampagne hexenjagd mehr frau abgeschossen worden seite'"
      ]
     },
     "execution_count": 34,
     "metadata": {},
     "output_type": "execute_result"
    }
   ],
   "source": [
    "# processed_docs_german_for_bertopic.iloc[10000]"
   ]
  },
  {
   "cell_type": "code",
   "execution_count": 36,
   "id": "b2e00895-1b00-4a82-ad0e-8355893dbfe4",
   "metadata": {
    "tags": []
   },
   "outputs": [
    {
     "name": "stdout",
     "output_type": "stream",
     "text": [
      "huggingface/tokenizers: The current process just got forked, after parallelism has already been used. Disabling parallelism to avoid deadlocks...\n",
      "To disable this warning, you can either:\n",
      "\t- Avoid using `tokenizers` before the fork if possible\n",
      "\t- Explicitly set the environment variable TOKENIZERS_PARALLELISM=(true | false)\n",
      "huggingface/tokenizers: The current process just got forked, after parallelism has already been used. Disabling parallelism to avoid deadlocks...\n",
      "To disable this warning, you can either:\n",
      "\t- Avoid using `tokenizers` before the fork if possible\n",
      "\t- Explicitly set the environment variable TOKENIZERS_PARALLELISM=(true | false)\n",
      "huggingface/tokenizers: The current process just got forked, after parallelism has already been used. Disabling parallelism to avoid deadlocks...\n",
      "To disable this warning, you can either:\n",
      "\t- Avoid using `tokenizers` before the fork if possible\n",
      "\t- Explicitly set the environment variable TOKENIZERS_PARALLELISM=(true | false)\n",
      "huggingface/tokenizers: The current process just got forked, after parallelism has already been used. Disabling parallelism to avoid deadlocks...\n",
      "To disable this warning, you can either:\n",
      "\t- Avoid using `tokenizers` before the fork if possible\n",
      "\t- Explicitly set the environment variable TOKENIZERS_PARALLELISM=(true | false)\n",
      "huggingface/tokenizers: The current process just got forked, after parallelism has already been used. Disabling parallelism to avoid deadlocks...\n",
      "To disable this warning, you can either:\n",
      "\t- Avoid using `tokenizers` before the fork if possible\n",
      "\t- Explicitly set the environment variable TOKENIZERS_PARALLELISM=(true | false)\n"
     ]
    }
   ],
   "source": [
    "# topics, probs = modelBert.fit_transform(processed_docs_german_for_bertopic)"
   ]
  },
  {
   "cell_type": "code",
   "execution_count": 37,
   "id": "fdd89331-0552-4a76-b162-f044ba5eff23",
   "metadata": {
    "tags": []
   },
   "outputs": [
    {
     "data": {
      "text/html": [
       "<div>\n",
       "<style scoped>\n",
       "    .dataframe tbody tr th:only-of-type {\n",
       "        vertical-align: middle;\n",
       "    }\n",
       "\n",
       "    .dataframe tbody tr th {\n",
       "        vertical-align: top;\n",
       "    }\n",
       "\n",
       "    .dataframe thead th {\n",
       "        text-align: right;\n",
       "    }\n",
       "</style>\n",
       "<table border=\"1\" class=\"dataframe\">\n",
       "  <thead>\n",
       "    <tr style=\"text-align: right;\">\n",
       "      <th></th>\n",
       "      <th>Topic</th>\n",
       "      <th>Count</th>\n",
       "      <th>Name</th>\n",
       "    </tr>\n",
       "  </thead>\n",
       "  <tbody>\n",
       "    <tr>\n",
       "      <th>0</th>\n",
       "      <td>-1</td>\n",
       "      <td>19721</td>\n",
       "      <td>-1_mehr_franken_schweiz_bank</td>\n",
       "    </tr>\n",
       "    <tr>\n",
       "      <th>1</th>\n",
       "      <td>0</td>\n",
       "      <td>776</td>\n",
       "      <td>0_bank_kantonalbank_reuters_privatbank</td>\n",
       "    </tr>\n",
       "    <tr>\n",
       "      <th>2</th>\n",
       "      <td>1</td>\n",
       "      <td>715</td>\n",
       "      <td>1_milliarden_dollar_franken_millionen</td>\n",
       "    </tr>\n",
       "    <tr>\n",
       "      <th>3</th>\n",
       "      <td>2</td>\n",
       "      <td>566</td>\n",
       "      <td>2_russland_russischen_putin_russische</td>\n",
       "    </tr>\n",
       "    <tr>\n",
       "      <th>4</th>\n",
       "      <td>3</td>\n",
       "      <td>511</td>\n",
       "      <td>3_inflation_teuerung_geldpolitik_zinsen</td>\n",
       "    </tr>\n",
       "    <tr>\n",
       "      <th>...</th>\n",
       "      <td>...</td>\n",
       "      <td>...</td>\n",
       "      <td>...</td>\n",
       "    </tr>\n",
       "    <tr>\n",
       "      <th>321</th>\n",
       "      <td>320</td>\n",
       "      <td>10</td>\n",
       "      <td>320_berset_orik_berisha_sollaku</td>\n",
       "    </tr>\n",
       "    <tr>\n",
       "      <th>322</th>\n",
       "      <td>321</td>\n",
       "      <td>10</td>\n",
       "      <td>321_pieper_franke_merrill_thain</td>\n",
       "    </tr>\n",
       "    <tr>\n",
       "      <th>323</th>\n",
       "      <td>322</td>\n",
       "      <td>10</td>\n",
       "      <td>322_postgesellschaft_identitt_sign_telefongese...</td>\n",
       "    </tr>\n",
       "    <tr>\n",
       "      <th>324</th>\n",
       "      <td>323</td>\n",
       "      <td>10</td>\n",
       "      <td>323_saffa_preiswerk_gfeller_hamers</td>\n",
       "    </tr>\n",
       "    <tr>\n",
       "      <th>325</th>\n",
       "      <td>324</td>\n",
       "      <td>10</td>\n",
       "      <td>324_zentralbankpolitik_nationalbank_geldpoliti...</td>\n",
       "    </tr>\n",
       "  </tbody>\n",
       "</table>\n",
       "<p>326 rows × 3 columns</p>\n",
       "</div>"
      ],
      "text/plain": [
       "     Topic  Count                                               Name\n",
       "0       -1  19721                       -1_mehr_franken_schweiz_bank\n",
       "1        0    776             0_bank_kantonalbank_reuters_privatbank\n",
       "2        1    715              1_milliarden_dollar_franken_millionen\n",
       "3        2    566              2_russland_russischen_putin_russische\n",
       "4        3    511            3_inflation_teuerung_geldpolitik_zinsen\n",
       "..     ...    ...                                                ...\n",
       "321    320     10                    320_berset_orik_berisha_sollaku\n",
       "322    321     10                    321_pieper_franke_merrill_thain\n",
       "323    322     10  322_postgesellschaft_identitt_sign_telefongese...\n",
       "324    323     10                 323_saffa_preiswerk_gfeller_hamers\n",
       "325    324     10  324_zentralbankpolitik_nationalbank_geldpoliti...\n",
       "\n",
       "[326 rows x 3 columns]"
      ]
     },
     "execution_count": 37,
     "metadata": {},
     "output_type": "execute_result"
    }
   ],
   "source": [
    "# modelBert.get_topic_info()"
   ]
  },
  {
   "cell_type": "code",
   "execution_count": 45,
   "id": "506b4fbb-ade5-478f-b6ef-77b9f13c2e9c",
   "metadata": {
    "tags": []
   },
   "outputs": [
    {
     "data": {
      "text/plain": [
       "[('milliarden', 0.018936520093871423),\n",
       " ('dollar', 0.007194108431531559),\n",
       " ('franken', 0.006456921169619523),\n",
       " ('millionen', 0.004736313342115844),\n",
       " ('prozent', 0.004681428963470421),\n",
       " ('adani', 0.0038408865394766044),\n",
       " ('nationalbank', 0.0038392418502122554),\n",
       " ('milliarde', 0.0038353722986460637),\n",
       " ('rund', 0.0036148485415916955),\n",
       " ('gewinn', 0.003390979456405935),\n",
       " ('jahr', 0.0032373263585794457),\n",
       " ('axpo', 0.003168922690125031),\n",
       " ('bund', 0.0029521028279561588),\n",
       " ('fonds', 0.0028273488960904917),\n",
       " ('gestern', 0.0027372212082696122)]"
      ]
     },
     "execution_count": 45,
     "metadata": {},
     "output_type": "execute_result"
    }
   ],
   "source": [
    "# # #-1 is the outlier\n",
    "# modelBert.get_topic(1)"
   ]
  },
  {
   "cell_type": "code",
   "execution_count": 42,
   "id": "9ed7c9d9-322d-4578-bcf9-8876b8604ed1",
   "metadata": {
    "tags": []
   },
   "outputs": [],
   "source": [
    "# german_docs_and_their_topic=modelBert.get_document_info(processed_docs_german_for_bertopic)"
   ]
  },
  {
   "cell_type": "code",
   "execution_count": 43,
   "id": "a4bb9e3e-2c49-4e9e-a8d0-6c553b84ff5c",
   "metadata": {
    "tags": []
   },
   "outputs": [
    {
     "data": {
      "text/html": [
       "<div>\n",
       "<style scoped>\n",
       "    .dataframe tbody tr th:only-of-type {\n",
       "        vertical-align: middle;\n",
       "    }\n",
       "\n",
       "    .dataframe tbody tr th {\n",
       "        vertical-align: top;\n",
       "    }\n",
       "\n",
       "    .dataframe thead th {\n",
       "        text-align: right;\n",
       "    }\n",
       "</style>\n",
       "<table border=\"1\" class=\"dataframe\">\n",
       "  <thead>\n",
       "    <tr style=\"text-align: right;\">\n",
       "      <th></th>\n",
       "      <th>Document</th>\n",
       "      <th>Topic</th>\n",
       "      <th>Name</th>\n",
       "      <th>Top_n_words</th>\n",
       "      <th>Probability</th>\n",
       "      <th>Representative_document</th>\n",
       "    </tr>\n",
       "  </thead>\n",
       "  <tbody>\n",
       "    <tr>\n",
       "      <th>0</th>\n",
       "      <td>er_old einkommen allg steuern reichtum einkomm...</td>\n",
       "      <td>171</td>\n",
       "      <td>171_allg_versicherung_politisches_politique</td>\n",
       "      <td>allg - versicherung - politisches - politique ...</td>\n",
       "      <td>0.990597</td>\n",
       "      <td>False</td>\n",
       "    </tr>\n",
       "    <tr>\n",
       "      <th>1</th>\n",
       "      <td>er_old korruption bank allg wirtschaftskrimina...</td>\n",
       "      <td>-1</td>\n",
       "      <td>-1_mehr_franken_schweiz_bank</td>\n",
       "      <td>mehr - franken - schweiz - bank - prozent - sc...</td>\n",
       "      <td>0.000000</td>\n",
       "      <td>False</td>\n",
       "    </tr>\n",
       "    <tr>\n",
       "      <th>2</th>\n",
       "      <td>er_old fussball fussball soccer finanzen einko...</td>\n",
       "      <td>108</td>\n",
       "      <td>108_fussball_soccer_sport_football</td>\n",
       "      <td>fussball - soccer - sport - football - versich...</td>\n",
       "      <td>1.000000</td>\n",
       "      <td>True</td>\n",
       "    </tr>\n",
       "    <tr>\n",
       "      <th>3</th>\n",
       "      <td>_old wirtschaftskriminalität kapitalmarkt post...</td>\n",
       "      <td>-1</td>\n",
       "      <td>-1_mehr_franken_schweiz_bank</td>\n",
       "      <td>mehr - franken - schweiz - bank - prozent - sc...</td>\n",
       "      <td>0.000000</td>\n",
       "      <td>False</td>\n",
       "    </tr>\n",
       "    <tr>\n",
       "      <th>4</th>\n",
       "      <td>er_old versicherung lebensversicherungsgewerbe...</td>\n",
       "      <td>154</td>\n",
       "      <td>154_versicherung_versicherungsgewerbe_statisti...</td>\n",
       "      <td>versicherung - versicherungsgewerbe - statisti...</td>\n",
       "      <td>0.510051</td>\n",
       "      <td>False</td>\n",
       "    </tr>\n",
       "    <tr>\n",
       "      <th>...</th>\n",
       "      <td>...</td>\n",
       "      <td>...</td>\n",
       "      <td>...</td>\n",
       "      <td>...</td>\n",
       "      <td>...</td>\n",
       "      <td>...</td>\n",
       "    </tr>\n",
       "    <tr>\n",
       "      <th>41105</th>\n",
       "      <td>gespräch jahreswechsel inflation krieg klima 2...</td>\n",
       "      <td>3</td>\n",
       "      <td>3_inflation_teuerung_geldpolitik_zinsen</td>\n",
       "      <td>inflation - teuerung - geldpolitik - zinsen - ...</td>\n",
       "      <td>1.000000</td>\n",
       "      <td>False</td>\n",
       "    </tr>\n",
       "    <tr>\n",
       "      <th>41106</th>\n",
       "      <td>umfrage bank verlangte kundinnen kunden daten ...</td>\n",
       "      <td>-1</td>\n",
       "      <td>-1_mehr_franken_schweiz_bank</td>\n",
       "      <td>mehr - franken - schweiz - bank - prozent - sc...</td>\n",
       "      <td>0.000000</td>\n",
       "      <td>False</td>\n",
       "    </tr>\n",
       "    <tr>\n",
       "      <th>41107</th>\n",
       "      <td>ersten blick grösste schweizer bank 2022 glanz...</td>\n",
       "      <td>-1</td>\n",
       "      <td>-1_mehr_franken_schweiz_bank</td>\n",
       "      <td>mehr - franken - schweiz - bank - prozent - sc...</td>\n",
       "      <td>0.000000</td>\n",
       "      <td>False</td>\n",
       "    </tr>\n",
       "    <tr>\n",
       "      <th>41108</th>\n",
       "      <td>verlust schweizer grossbank credit suisse grös...</td>\n",
       "      <td>-1</td>\n",
       "      <td>-1_mehr_franken_schweiz_bank</td>\n",
       "      <td>mehr - franken - schweiz - bank - prozent - sc...</td>\n",
       "      <td>0.000000</td>\n",
       "      <td>False</td>\n",
       "    </tr>\n",
       "    <tr>\n",
       "      <th>41109</th>\n",
       "      <td>aussenminister ignazio cassis schweiz sucht we...</td>\n",
       "      <td>2</td>\n",
       "      <td>2_russland_russischen_putin_russische</td>\n",
       "      <td>russland - russischen - putin - russische - uk...</td>\n",
       "      <td>0.515909</td>\n",
       "      <td>False</td>\n",
       "    </tr>\n",
       "  </tbody>\n",
       "</table>\n",
       "<p>41110 rows × 6 columns</p>\n",
       "</div>"
      ],
      "text/plain": [
       "                                                Document  Topic  \\\n",
       "0      er_old einkommen allg steuern reichtum einkomm...    171   \n",
       "1      er_old korruption bank allg wirtschaftskrimina...     -1   \n",
       "2      er_old fussball fussball soccer finanzen einko...    108   \n",
       "3      _old wirtschaftskriminalität kapitalmarkt post...     -1   \n",
       "4      er_old versicherung lebensversicherungsgewerbe...    154   \n",
       "...                                                  ...    ...   \n",
       "41105  gespräch jahreswechsel inflation krieg klima 2...      3   \n",
       "41106  umfrage bank verlangte kundinnen kunden daten ...     -1   \n",
       "41107  ersten blick grösste schweizer bank 2022 glanz...     -1   \n",
       "41108  verlust schweizer grossbank credit suisse grös...     -1   \n",
       "41109  aussenminister ignazio cassis schweiz sucht we...      2   \n",
       "\n",
       "                                                    Name  \\\n",
       "0            171_allg_versicherung_politisches_politique   \n",
       "1                           -1_mehr_franken_schweiz_bank   \n",
       "2                     108_fussball_soccer_sport_football   \n",
       "3                           -1_mehr_franken_schweiz_bank   \n",
       "4      154_versicherung_versicherungsgewerbe_statisti...   \n",
       "...                                                  ...   \n",
       "41105            3_inflation_teuerung_geldpolitik_zinsen   \n",
       "41106                       -1_mehr_franken_schweiz_bank   \n",
       "41107                       -1_mehr_franken_schweiz_bank   \n",
       "41108                       -1_mehr_franken_schweiz_bank   \n",
       "41109              2_russland_russischen_putin_russische   \n",
       "\n",
       "                                             Top_n_words  Probability  \\\n",
       "0      allg - versicherung - politisches - politique ...     0.990597   \n",
       "1      mehr - franken - schweiz - bank - prozent - sc...     0.000000   \n",
       "2      fussball - soccer - sport - football - versich...     1.000000   \n",
       "3      mehr - franken - schweiz - bank - prozent - sc...     0.000000   \n",
       "4      versicherung - versicherungsgewerbe - statisti...     0.510051   \n",
       "...                                                  ...          ...   \n",
       "41105  inflation - teuerung - geldpolitik - zinsen - ...     1.000000   \n",
       "41106  mehr - franken - schweiz - bank - prozent - sc...     0.000000   \n",
       "41107  mehr - franken - schweiz - bank - prozent - sc...     0.000000   \n",
       "41108  mehr - franken - schweiz - bank - prozent - sc...     0.000000   \n",
       "41109  russland - russischen - putin - russische - uk...     0.515909   \n",
       "\n",
       "       Representative_document  \n",
       "0                        False  \n",
       "1                        False  \n",
       "2                         True  \n",
       "3                        False  \n",
       "4                        False  \n",
       "...                        ...  \n",
       "41105                    False  \n",
       "41106                    False  \n",
       "41107                    False  \n",
       "41108                    False  \n",
       "41109                    False  \n",
       "\n",
       "[41110 rows x 6 columns]"
      ]
     },
     "execution_count": 43,
     "metadata": {},
     "output_type": "execute_result"
    }
   ],
   "source": [
    "# german_docs_and_their_topic"
   ]
  },
  {
   "cell_type": "code",
   "execution_count": null,
   "id": "0eaf8373-e071-4dd8-aff0-afd617fbe526",
   "metadata": {
    "tags": []
   },
   "outputs": [],
   "source": [
    "# german_docs_and_their_topic.dtypes"
   ]
  },
  {
   "cell_type": "code",
   "execution_count": null,
   "id": "33b6cb50-f440-42a1-b93d-355205f6e8ce",
   "metadata": {},
   "outputs": [],
   "source": []
  },
  {
   "cell_type": "code",
   "execution_count": 43,
   "id": "960ce997-a15e-4b2c-88bb-b716ed58f4f5",
   "metadata": {
    "tags": []
   },
   "outputs": [],
   "source": [
    "# # # Save data as a pickled object\n",
    "# with open('german_docs_and_their_topic.pkl', 'wb') as f:\n",
    "#     pickle.dump(german_docs_and_their_topic, f)"
   ]
  },
  {
   "cell_type": "code",
   "execution_count": 44,
   "id": "b12a8d4a-dd2a-4467-97dc-5f78ca9f4514",
   "metadata": {
    "tags": []
   },
   "outputs": [],
   "source": [
    "# import numpy as np\n",
    "\n",
    "# year = undersampled_data['year'].values\n",
    "# newspaper = undersampled_data['newspaper'].values\n",
    "# Document=german_docs_and_their_topic['Document'].values\n",
    "# Topic=german_docs_and_their_topic['Topic'].values\n",
    "# Name=german_docs_and_their_topic['Name'].values\n",
    "# Top_n_words=german_docs_and_their_topic['Top_n_words'].values\n",
    "# Probability=german_docs_and_their_topic['Probability'].values\n",
    "\n",
    "\n",
    "\n",
    "# valid_indices = np.where((Topic <= 4) & (Topic >= 0))[0]\n",
    "# year = year[valid_indices]\n",
    "# newspaper = newspaper[valid_indices]\n",
    "# Document = Document[valid_indices]\n",
    "# Topic = Topic[valid_indices]\n",
    "# Name = Name[valid_indices]\n",
    "# Top_n_words = Top_n_words[valid_indices]\n",
    "# Probability = Probability[valid_indices]\n",
    "\n",
    "# # Create DataFrame for undersampled data\n",
    "# filted_dataset_after_topic_modeling = pd.DataFrame({'document': Document, 'year': year, 'newspaper': newspaper, 'topic': Topic, 'name': Name, 'top_n_words': Top_n_words, 'probability': Probability})\n"
   ]
  },
  {
   "cell_type": "code",
   "execution_count": 60,
   "id": "da1193be-1a63-43d3-9640-118af652baa0",
   "metadata": {
    "tags": []
   },
   "outputs": [],
   "source": [
    "# # Save data as a pickled object\n",
    "# with open('filted_dataset_after_topic_model_german.pkl', 'wb') as f:\n",
    "#     pickle.dump(filted_dataset_after_topic_modeling, f)"
   ]
  },
  {
   "cell_type": "code",
   "execution_count": 82,
   "id": "0fdc61b9-9056-4e74-9819-449cf9f73310",
   "metadata": {
    "tags": []
   },
   "outputs": [],
   "source": [
    "# # Load undersampled data from the pickled object\n",
    "# with open('filted_dataset_after_topic_model_german.pkl', 'rb') as f:\n",
    "#     filted_dataset_after_topic_model = pickle.load(f)"
   ]
  },
  {
   "cell_type": "code",
   "execution_count": 83,
   "id": "f9ad49e3-7f03-4fd3-a624-f95143be3069",
   "metadata": {
    "tags": []
   },
   "outputs": [
    {
     "name": "stdout",
     "output_type": "stream",
     "text": [
      "2778\n"
     ]
    },
    {
     "data": {
      "text/html": [
       "<div>\n",
       "<style scoped>\n",
       "    .dataframe tbody tr th:only-of-type {\n",
       "        vertical-align: middle;\n",
       "    }\n",
       "\n",
       "    .dataframe tbody tr th {\n",
       "        vertical-align: top;\n",
       "    }\n",
       "\n",
       "    .dataframe thead th {\n",
       "        text-align: right;\n",
       "    }\n",
       "</style>\n",
       "<table border=\"1\" class=\"dataframe\">\n",
       "  <thead>\n",
       "    <tr style=\"text-align: right;\">\n",
       "      <th></th>\n",
       "      <th>document</th>\n",
       "      <th>year</th>\n",
       "      <th>newspaper</th>\n",
       "      <th>topic</th>\n",
       "      <th>name</th>\n",
       "      <th>top_n_words</th>\n",
       "      <th>probability</th>\n",
       "    </tr>\n",
       "  </thead>\n",
       "  <tbody>\n",
       "    <tr>\n",
       "      <th>0</th>\n",
       "      <td>er_old architektur film raumplanung bauwerk al...</td>\n",
       "      <td>1998</td>\n",
       "      <td>BAZ</td>\n",
       "      <td>4</td>\n",
       "      <td>4_film_kino_regisseur_festival</td>\n",
       "      <td>film - kino - regisseur - festival - geschicht...</td>\n",
       "      <td>0.784174</td>\n",
       "    </tr>\n",
       "    <tr>\n",
       "      <th>1</th>\n",
       "      <td>er_old bank allg geschichte aussenwirtschaft a...</td>\n",
       "      <td>1998</td>\n",
       "      <td>BAZ</td>\n",
       "      <td>3</td>\n",
       "      <td>3_bank_kunde_credit_suisse</td>\n",
       "      <td>bank - kunde - credit - suisse - finma - mrd -...</td>\n",
       "      <td>1.000000</td>\n",
       "    </tr>\n",
       "    <tr>\n",
       "      <th>2</th>\n",
       "      <td>er_old musik konzert schweiz kulturwerkstatt k...</td>\n",
       "      <td>1998</td>\n",
       "      <td>BAZ</td>\n",
       "      <td>0</td>\n",
       "      <td>0_musik_konzert_band_musiker</td>\n",
       "      <td>musik - konzert - band - musiker - song - musi...</td>\n",
       "      <td>1.000000</td>\n",
       "    </tr>\n",
       "    <tr>\n",
       "      <th>3</th>\n",
       "      <td>er_old versicherung kapitalmarkt versicherungs...</td>\n",
       "      <td>1998</td>\n",
       "      <td>BAZ</td>\n",
       "      <td>3</td>\n",
       "      <td>3_bank_kunde_credit_suisse</td>\n",
       "      <td>bank - kunde - credit - suisse - finma - mrd -...</td>\n",
       "      <td>0.615956</td>\n",
       "    </tr>\n",
       "    <tr>\n",
       "      <th>4</th>\n",
       "      <td>film verbrechen allg regisseur kriminelle vere...</td>\n",
       "      <td>1998</td>\n",
       "      <td>BAZ</td>\n",
       "      <td>4</td>\n",
       "      <td>4_film_kino_regisseur_festival</td>\n",
       "      <td>film - kino - regisseur - festival - geschicht...</td>\n",
       "      <td>0.725939</td>\n",
       "    </tr>\n",
       "    <tr>\n",
       "      <th>...</th>\n",
       "      <td>...</td>\n",
       "      <td>...</td>\n",
       "      <td>...</td>\n",
       "      <td>...</td>\n",
       "      <td>...</td>\n",
       "      <td>...</td>\n",
       "      <td>...</td>\n",
       "    </tr>\n",
       "    <tr>\n",
       "      <th>2773</th>\n",
       "      <td>bank aktienkurs credit suisse gestern historis...</td>\n",
       "      <td>2023</td>\n",
       "      <td>TA</td>\n",
       "      <td>3</td>\n",
       "      <td>3_bank_kunde_credit_suisse</td>\n",
       "      <td>bank - kunde - credit - suisse - finma - mrd -...</td>\n",
       "      <td>1.000000</td>\n",
       "    </tr>\n",
       "    <tr>\n",
       "      <th>2774</th>\n",
       "      <td>geplant taxiservice person behinderung jung ka...</td>\n",
       "      <td>2023</td>\n",
       "      <td>TA</td>\n",
       "      <td>1</td>\n",
       "      <td>1_bahn_autobahn_bahnhof_auto</td>\n",
       "      <td>bahn - autobahn - bahnhof - auto - verkehr - t...</td>\n",
       "      <td>1.000000</td>\n",
       "    </tr>\n",
       "    <tr>\n",
       "      <th>2775</th>\n",
       "      <td>transport mann führen regiobahn tier anzeige e...</td>\n",
       "      <td>2023</td>\n",
       "      <td>TA</td>\n",
       "      <td>1</td>\n",
       "      <td>1_bahn_autobahn_bahnhof_auto</td>\n",
       "      <td>bahn - autobahn - bahnhof - auto - verkehr - t...</td>\n",
       "      <td>1.000000</td>\n",
       "    </tr>\n",
       "    <tr>\n",
       "      <th>2776</th>\n",
       "      <td>soulsängerin aretha franklin respect führen ak...</td>\n",
       "      <td>2023</td>\n",
       "      <td>TA</td>\n",
       "      <td>0</td>\n",
       "      <td>0_musik_konzert_band_musiker</td>\n",
       "      <td>musik - konzert - band - musiker - song - musi...</td>\n",
       "      <td>0.640472</td>\n",
       "    </tr>\n",
       "    <tr>\n",
       "      <th>2777</th>\n",
       "      <td>ukrainischer pianist ausladen vadim neselovsky...</td>\n",
       "      <td>2023</td>\n",
       "      <td>TA</td>\n",
       "      <td>0</td>\n",
       "      <td>0_musik_konzert_band_musiker</td>\n",
       "      <td>musik - konzert - band - musiker - song - musi...</td>\n",
       "      <td>0.717493</td>\n",
       "    </tr>\n",
       "  </tbody>\n",
       "</table>\n",
       "<p>2778 rows × 7 columns</p>\n",
       "</div>"
      ],
      "text/plain": [
       "                                               document  year newspaper  \\\n",
       "0     er_old architektur film raumplanung bauwerk al...  1998       BAZ   \n",
       "1     er_old bank allg geschichte aussenwirtschaft a...  1998       BAZ   \n",
       "2     er_old musik konzert schweiz kulturwerkstatt k...  1998       BAZ   \n",
       "3     er_old versicherung kapitalmarkt versicherungs...  1998       BAZ   \n",
       "4     film verbrechen allg regisseur kriminelle vere...  1998       BAZ   \n",
       "...                                                 ...   ...       ...   \n",
       "2773  bank aktienkurs credit suisse gestern historis...  2023        TA   \n",
       "2774  geplant taxiservice person behinderung jung ka...  2023        TA   \n",
       "2775  transport mann führen regiobahn tier anzeige e...  2023        TA   \n",
       "2776  soulsängerin aretha franklin respect führen ak...  2023        TA   \n",
       "2777  ukrainischer pianist ausladen vadim neselovsky...  2023        TA   \n",
       "\n",
       "      topic                            name  \\\n",
       "0         4  4_film_kino_regisseur_festival   \n",
       "1         3      3_bank_kunde_credit_suisse   \n",
       "2         0    0_musik_konzert_band_musiker   \n",
       "3         3      3_bank_kunde_credit_suisse   \n",
       "4         4  4_film_kino_regisseur_festival   \n",
       "...     ...                             ...   \n",
       "2773      3      3_bank_kunde_credit_suisse   \n",
       "2774      1    1_bahn_autobahn_bahnhof_auto   \n",
       "2775      1    1_bahn_autobahn_bahnhof_auto   \n",
       "2776      0    0_musik_konzert_band_musiker   \n",
       "2777      0    0_musik_konzert_band_musiker   \n",
       "\n",
       "                                            top_n_words  probability  \n",
       "0     film - kino - regisseur - festival - geschicht...     0.784174  \n",
       "1     bank - kunde - credit - suisse - finma - mrd -...     1.000000  \n",
       "2     musik - konzert - band - musiker - song - musi...     1.000000  \n",
       "3     bank - kunde - credit - suisse - finma - mrd -...     0.615956  \n",
       "4     film - kino - regisseur - festival - geschicht...     0.725939  \n",
       "...                                                 ...          ...  \n",
       "2773  bank - kunde - credit - suisse - finma - mrd -...     1.000000  \n",
       "2774  bahn - autobahn - bahnhof - auto - verkehr - t...     1.000000  \n",
       "2775  bahn - autobahn - bahnhof - auto - verkehr - t...     1.000000  \n",
       "2776  musik - konzert - band - musiker - song - musi...     0.640472  \n",
       "2777  musik - konzert - band - musiker - song - musi...     0.717493  \n",
       "\n",
       "[2778 rows x 7 columns]"
      ]
     },
     "execution_count": 83,
     "metadata": {},
     "output_type": "execute_result"
    }
   ],
   "source": [
    "print(len(filted_dataset_after_topic_model))\n",
    "filted_dataset_after_topic_model"
   ]
  },
  {
   "cell_type": "code",
   "execution_count": 84,
   "id": "47d9efa3-53ea-464d-8c51-35c2da7adf88",
   "metadata": {
    "tags": []
   },
   "outputs": [
    {
     "data": {
      "text/plain": [
       "2675"
      ]
     },
     "execution_count": 84,
     "metadata": {},
     "output_type": "execute_result"
    }
   ],
   "source": [
    "probability=filted_dataset_after_topic_model['probability'].values\n",
    "valid_indices = np.where((probability>= 0.5))[0]\n",
    "len(valid_indices)#So all the probabilities are above 0.5"
   ]
  },
  {
   "cell_type": "code",
   "execution_count": 102,
   "id": "23e09a44-1670-4d65-b001-c6dce09f68ee",
   "metadata": {
    "tags": []
   },
   "outputs": [
    {
     "name": "stdout",
     "output_type": "stream",
     "text": [
      "bank - kunde - credit - suisse - finma - mrd - aktie - geld - grossbank - kantonalbank - institut - franken - banking - prozent - schweizer\n"
     ]
    }
   ],
   "source": [
    "print(filted_dataset_after_topic_model.loc[(filted_dataset_after_topic_model['topic'] ==3),'top_n_words'][1])"
   ]
  },
  {
   "cell_type": "code",
   "execution_count": 85,
   "id": "b05029f7-6e6c-4741-84d7-c0fda068b787",
   "metadata": {
    "tags": []
   },
   "outputs": [],
   "source": [
    "import pandas as pd\n",
    "\n",
    "# Assuming your dataframe is named 'df'\n",
    "filtered_df = filted_dataset_after_topic_model.loc[(filted_dataset_after_topic_model['topic'] >= 0) & (filted_dataset_after_topic_model['topic'] <= 10)]"
   ]
  },
  {
   "cell_type": "code",
   "execution_count": 86,
   "id": "4071cc73-02c8-47ed-bb80-dbe3041b2cc5",
   "metadata": {
    "tags": []
   },
   "outputs": [],
   "source": [
    "grouped_df = filtered_df.groupby(['year', 'topic']).size().reset_index(name='document_count')"
   ]
  },
  {
   "cell_type": "code",
   "execution_count": 87,
   "id": "53e2009c-8d55-49f0-b79d-82fe27e320b2",
   "metadata": {
    "tags": []
   },
   "outputs": [
    {
     "data": {
      "image/png": "[encoded data removed]",
      "text/plain": [
       "<Figure size 1000x600 with 1 Axes>"
      ]
     },
     "metadata": {},
     "output_type": "display_data"
    },
    {
     "data": {
      "text/plain": [
       "<Figure size 640x480 with 0 Axes>"
      ]
     },
     "metadata": {},
     "output_type": "display_data"
    }
   ],
   "source": [
    "import matplotlib.pyplot as plt\n",
    "import seaborn as sns\n",
    "\n",
    "# Create a dictionary to map topic numbers to names\n",
    "topic_names = {\n",
    "    0: 'Music',\n",
    "    1: 'Traffic',\n",
    "    2: 'Government',\n",
    "    3: 'Bank',\n",
    "    4: 'Film Industry'\n",
    "}\n",
    "\n",
    "# Set the color palette\n",
    "color_palette = sns.color_palette('Set1', n_colors=5)\n",
    "\n",
    "# Create a custom legend handle with the corresponding colors\n",
    "legend_handles = [plt.Line2D([], [], color=color_palette[i], label=topic_names[i]) for i in topic_names.keys()]\n",
    "\n",
    "\n",
    "\n",
    "# Plot the line plot\n",
    "plt.figure(figsize=(10, 6))\n",
    "ax=sns.lineplot(data=grouped_df, x='year', y='document_count', hue='topic', palette=color_palette)\n",
    "plt.title('Frequency of Topics of german newspapers Over Time')\n",
    "plt.xlabel('Year')\n",
    "plt.ylabel('Number of Documents')\n",
    "\n",
    "# Highlight the line for the 'Bank' topic\n",
    "bank_topic_color = color_palette[3]  # Get the color for the 'Bank' topic\n",
    "bank_line = ax.get_lines()[3]  # Get the line object for the 'Bank' topic\n",
    "bank_line.set_color(bank_topic_color)\n",
    "bank_line.set_linewidth(8)\n",
    "\n",
    "# Add the custom legend handle\n",
    "plt.legend(title='Topic', handles=legend_handles, loc='center left', bbox_to_anchor=(1, 0.5))\n",
    "\n",
    "# Rotate the x-axis labels\n",
    "plt.xticks(rotation=45)\n",
    "\n",
    "plt.show()\n",
    "plt.savefig('topic_trend_plot.png', bbox_inches='tight')\n"
   ]
  },
  {
   "cell_type": "code",
   "execution_count": 94,
   "id": "5ced6328-d0a6-4e96-9cba-f9350ff8fa1d",
   "metadata": {
    "tags": []
   },
   "outputs": [
    {
     "data": {
      "image/png": "[encoded data removed]",
      "text/plain": [
       "<Figure size 1000x600 with 1 Axes>"
      ]
     },
     "metadata": {},
     "output_type": "display_data"
    },
    {
     "data": {
      "text/plain": [
       "<Figure size 640x480 with 0 Axes>"
      ]
     },
     "metadata": {},
     "output_type": "display_data"
    }
   ],
   "source": [
    "import matplotlib.pyplot as plt\n",
    "import seaborn as sns\n",
    "import matplotlib.font_manager as fm\n",
    "\n",
    "# Create a dictionary to map topic numbers to names\n",
    "topic_names = {\n",
    "    0: 'Music',\n",
    "    1: 'Traffic',\n",
    "    2: 'Government',\n",
    "    3: 'Bank',\n",
    "    4: 'Film Industry'\n",
    "}\n",
    "\n",
    "# Set the color palette\n",
    "color_palette = sns.color_palette('Set1', n_colors=5)\n",
    "\n",
    "# Group the dataframe by topic and language and count the number of documents\n",
    "grouped_df = filtered_df.groupby(['topic', 'newspaper']).size().reset_index(name='document_count')\n",
    "\n",
    "# Plot the grouped bar plot\n",
    "plt.figure(figsize=(10, 6))\n",
    "ax = sns.barplot(data=grouped_df, x='topic', y='document_count', hue='newspaper', palette=color_palette)\n",
    "plt.title('Topic Distribution by German Newspaper')\n",
    "plt.xlabel('Topic')\n",
    "plt.ylabel('Number of Documents')\n",
    "plt.legend(title='Newspaper')\n",
    "\n",
    "# Highlight the 'Bank' xtick\n",
    "bank_xtick_index = 3  # Index of 'Bank' xtick\n",
    "bank_xtick_label = topic_names[bank_xtick_index]  # Label for 'Bank' xtick\n",
    "bank_xtick = plt.gca().xaxis.get_ticklabels()[bank_xtick_index]  # Get 'Bank' xtick label\n",
    "bank_xtick.set_fontweight('bold')  # Set font weight to bold\n",
    "bank_xtick.set_fontproperties(fm.FontProperties(weight='bold'))  # Set font properties to bold\n",
    "\n",
    "# Set the x-axis tick labels to topic names\n",
    "plt.xticks(ticks=range(len(topic_names)), labels=[topic_names[i] for i in range(len(topic_names))])\n",
    "\n",
    "plt.show()\n",
    "plt.savefig('topic_newspaper_trend_plot.png', bbox_inches='tight')\n"
   ]
  },
  {
   "cell_type": "code",
   "execution_count": null,
   "id": "86401266-5f8f-46a6-9d91-bcc7782e390f",
   "metadata": {},
   "outputs": [],
   "source": []
  },
  {
   "cell_type": "code",
   "execution_count": null,
   "id": "a5f36717-ae56-47f7-8afa-5911d47dc876",
   "metadata": {},
   "outputs": [],
   "source": []
  }
 ],
 "metadata": {
  "kernelspec": {
   "display_name": "Python 3 (ipykernel)",
   "language": "python",
   "name": "python3"
  },
  "language_info": {
   "codemirror_mode": {
    "name": "ipython",
    "version": 3
   },
   "file_extension": ".py",
   "mimetype": "text/x-python",
   "name": "python",
   "nbconvert_exporter": "python",
   "pygments_lexer": "ipython3",
   "version": "3.7.16"
  }
 },
 "nbformat": 4,
 "nbformat_minor": 5
}
